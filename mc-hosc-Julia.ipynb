{
 "cells": [
  {
   "cell_type": "markdown",
   "id": "fcf8c253-76e4-4d6a-8e37-fdd582d54e31",
   "metadata": {},
   "source": [
    "MIT License\n",
    "\n",
    "Copyright (c) 2024 Mohannad Shehadeh\n",
    "\n",
    "Permission is hereby granted, free of charge, to any person obtaining a copy\n",
    "of this software and associated documentation files (the \"Software\"), to deal\n",
    "in the Software without restriction, including without limitation the rights\n",
    "to use, copy, modify, merge, publish, distribute, sublicense, and/or sell\n",
    "copies of the Software, and to permit persons to whom the Software is\n",
    "furnished to do so, subject to the following conditions:\n",
    "\n",
    "The above copyright notice and this permission notice shall be included in all\n",
    "copies or substantial portions of the Software.\n",
    "\n",
    "THE SOFTWARE IS PROVIDED \"AS IS\", WITHOUT WARRANTY OF ANY KIND, EXPRESS OR\n",
    "IMPLIED, INCLUDING BUT NOT LIMITED TO THE WARRANTIES OF MERCHANTABILITY,\n",
    "FITNESS FOR A PARTICULAR PURPOSE AND NONINFRINGEMENT. IN NO EVENT SHALL THE\n",
    "AUTHORS OR COPYRIGHT HOLDERS BE LIABLE FOR ANY CLAIM, DAMAGES OR OTHER\n",
    "LIABILITY, WHETHER IN AN ACTION OF CONTRACT, TORT OR OTHERWISE, ARISING FROM,\n",
    "OUT OF OR IN CONNECTION WITH THE SOFTWARE OR THE USE OR OTHER DEALINGS IN THE\n",
    "SOFTWARE."
   ]
  },
  {
   "cell_type": "markdown",
   "id": "8cf5cee0-dc3c-4e8c-90b9-2d3f48cf6017",
   "metadata": {},
   "source": [
    "This notebook provides a [Julia](https://julialang.org/) model for a complete encoder–decoder pair for unterminated [Higher-Order Staircase Codes](https://arxiv.org/pdf/2410.16504) that are [multiply-chained](https://doi.org/10.1109/TCOMM.2022.3185065) and with the extended Hamming component codes described [here](https://arxiv.org/pdf/2312.13415). For fast simulation, you should instead use [decsim-mc-hosc](https://github.com/fkschischang/decsim) which is intended to simulate a statistically equivalent process, but is orders of magnitude faster. For codes without multiple chaining, i.e., $C = 1$, you can instead use [hosc-Julia](https://github.com/applecoffeecake/hosc-Julia)."
   ]
  },
  {
   "cell_type": "code",
   "execution_count": 1,
   "id": "21360373-6ee5-42f3-8f52-55cdb776edac",
   "metadata": {
    "tags": []
   },
   "outputs": [],
   "source": [
    "# Required packages; install if missing\n",
    "using DataStructures\n",
    "using Dates\n",
    "using Plots\n",
    "using DelimitedFiles"
   ]
  },
  {
   "cell_type": "code",
   "execution_count": 2,
   "id": "5dfd283e-fb67-40b9-a39f-19a62a5dbabe",
   "metadata": {
    "tags": []
   },
   "outputs": [],
   "source": [
    "include(\"GF2-LinAlg.jl\");\n",
    "include(\"L-one-two-DTSs.jl\");\n",
    "include(\"grab-DTS.jl\");"
   ]
  },
  {
   "cell_type": "markdown",
   "id": "fce2a51f-9289-4ca5-9c95-a2b21f156103",
   "metadata": {},
   "source": [
    "# Multiply-Chained Higher-Order Staircase Codes: Overview and Conventions"
   ]
  },
  {
   "cell_type": "markdown",
   "id": "4bf40473-ace3-418a-8b5b-a382f56b3c8d",
   "metadata": {},
   "source": [
    "- We begin with a special choice of $L\\times (M+1)$ delays given by $$0 = d_0^{(\\ell)} < d_1^{(\\ell)} < \\cdots < d_M^{(\\ell)}$$ for \n",
    "$\\ell \\in \\{0,1,\\dots,L-1\\}$. We further have that $$\\mathsf{SCOPE} = d_M^{(0)} > d_M^{(1)} > \\cdots > d_M^{(L-1)}\\text{.}$$ \n",
    "The optimal delays (minimizing encoding and decoding memory while guaranteeing [scattering](https://arxiv.org/pdf/2312.13415)) are extremely difficult to find in general except when $M\\in\\{1,2\\}$ in which case there is an explicit construction. The optimal delays for $M\\in \\{3,4\\}$ were found for some values of $L$ in [Higher-Order Staircase Codes](https://arxiv.org/pdf/2312.13415) and are included in this repository and imported by this notebook. You can participate in the search for more optimal delay values using the tool [dts-search](https://github.com/applecoffeecake/dts-search) described in [Higher-Order Staircase Codes](https://arxiv.org/pdf/2312.13415) and other tools referenced therein.\n",
    "\n",
    "- We also have\n",
    "$M+1$ special permutations $\\pi_k(i,j)$ for $k \\in \\{0,1,\\dots,M\\}$ where $i,j\\in \\{0,1,\\dots,T-1\\}$. Unlike the delays, the optimal permutations (guaranteeing [scattering](https://arxiv.org/pdf/2312.13415)) have an easy explicit algebraic construction. The $T \\times T$ matrix $B$ with entries $b_{(i,j)}$ permuted according to $\\pi_k$ has entries given by $b_{\\pi_k(i,j)}$ and is denoted by $\\Pi_k(B)$. Moreover, we have $\\Pi_0(B) = B$. Note that that this convention for what it means to permute a matrix according to $\\pi_k$ is important in our construction because **the forward and inverse permutations are not interchangeable**.\n",
    "\n",
    "- We have $T \\times T$ blocks $B^{(n,c,\\ell)}$ for $n\\in\\mathbb{Z}$, $c \\in \\{0,1,\\dots,C-1\\}$, and $\\ell \\in \\{0,1,\\dots,L-1\\}$ which \n",
    "are arranged into $CT \\times LT$ rectangles that are transmitted. The $n$th rectangle is given by\n",
    "$$\n",
    "\\begin{pmatrix}\n",
    "    B^{(n,C-1,L-1)} & B^{(n,C-1,L-2)} & \\cdots & B^{(n,C-1,0)}\\\\\n",
    "    B^{(n,C-2,L-1)} & B^{(n,C-2,L-2)} & \\cdots & B^{(n,C-2,0)}\\\\\n",
    "            \\vdots & \\vdots & \\ddots & \\vdots \\\\\n",
    "    B^{(n,0,L-1)} & B^{(n,0,L-2)} & \\cdots & B^{(n,0,0)}\n",
    "\\end{pmatrix}\n",
    "= \n",
    "\\big(\\text{ $CT \\times (LT-r)$ information bits} \\;\\big\\vert\\; \\text{ $CT \\times r$ parity bits}\\big)\n",
    "$$\n",
    "which yields a rate of $1-r/(LT)$.\n",
    "\n",
    "- The encoding rule is as follows. The rows of the $CT \\times ((M+1)LT)$ matrix\n",
    "$$\n",
    "\\begin{pmatrix}\n",
    "\\Pi_M(B^{(n-d_M^{(L-1)},C-2,L-1)}) & \\cdots &\\Pi_M(B^{(n-d_M^{(1)},C-2,1)}) & \\Pi_M(B^{(n-d_M^{(0)},C-2,0)}) & \\cdots & \\Pi_1(B^{(n-d_1^{(L-1)},C-2,L-1)}) & \\cdots & \\Pi_1(B^{(n-d_1^{(1)},C-2,1)}) & \\Pi_1(B^{(n-d_1^{(0)},C-2,0)}) & B^{(n,C-1,L-1)} & \\cdots & B^{(n,C-1,1)} & B^{(n,C-1,0)}\\\\\n",
    "\\Pi_M(B^{(n-d_M^{(L-1)},C-3,L-1)}) & \\cdots &\\Pi_M(B^{(n-d_M^{(1)},C-3,1)}) & \\Pi_M(B^{(n-d_M^{(0)},C-3,0)}) & \\cdots & \\Pi_1(B^{(n-d_1^{(L-1)},C-3,L-1)}) & \\cdots & \\Pi_1(B^{(n-d_1^{(1)},C-3,1)}) & \\Pi_1(B^{(n-d_1^{(0)},C-3,0)}) & B^{(n,C-2,L-1)} & \\cdots & B^{(n,C-2,1)} & B^{(n,C-2,0)}\\\\\n",
    "                            \\vdots & \\ddots &                        \\vdots &                         \\vdots & \\ddots &                             \\vdots & \\ddots &                         \\vdots &                         \\vdots &          \\vdots & \\ddots &        \\vdots & \\vdots \\\\\n",
    "\\Pi_M(B^{(n-d_M^{(L-1)},0,L-1)}) & \\cdots &\\Pi_M(B^{(n-d_M^{(1)},0,1)}) & \\Pi_M(B^{(n-d_M^{(0)},0,0)}) & \\cdots & \\Pi_1(B^{(n-d_1^{(L-1)},0,L-1)}) & \\cdots & \\Pi_1(B^{(n-d_1^{(1)},0,1)}) & \\Pi_1(B^{(n-d_1^{(0)},0,0)}) & B^{(n,1,L-1)} & \\cdots & B^{(n,1,1)} & B^{(n,1,0)}\\\\\n",
    "\\Pi_M(B^{(n-d_M^{(L-1)},C-1,L-1)}) & \\cdots &\\Pi_M(B^{(n-d_M^{(1)},C-1,1)}) & \\Pi_M(B^{(n-d_M^{(0)},C-1,0)}) & \\cdots & \\Pi_1(B^{(n-d_1^{(L-1)},C-1,L-1)}) & \\cdots & \\Pi_1(B^{(n-d_1^{(1)},C-1,1)}) & \\Pi_1(B^{(n-d_1^{(0)},C-1,0)}) & B^{(n,0,L-1)} & \\cdots & B^{(n,0,1)} & B^{(n,0,0)}\n",
    "\\end{pmatrix}\n",
    "$$\n",
    "must belong to some specified component code of length $(M+1)LT$ and dimension $(M+1)LT-r$. In this notebook, we use extended Hamming component codes. The collection of $CT$ component codeword constraints applying to the rows of above matrix is referred to as a *constraint span chain*.\n",
    "\n",
    "- The above constraint span chain is labeled as the $(n-\\mathsf{SCOPE})$th constraint span chain. The $c$th *link* of the $(n-\\mathsf{SCOPE})$th contraint span chain is the portion of constraints applying to the rows of\n",
    "$$\n",
    "\\begin{pmatrix}\n",
    "\\Pi_M(B^{(n-d_M^{(L-1)},c-1\\pmod C,L-1)}) & \\cdots &\\Pi_M(B^{(n-d_M^{(1)},c-1\\pmod C,1)}) & \\Pi_M(B^{(n-d_M^{(0)},c-1\\pmod C,0)}) & \\cdots & \\Pi_1(B^{(n-d_1^{(L-1)},c-1\\pmod C,L-1)}) & \\cdots & \\Pi_1(B^{(n-d_1^{(1)},c-1\\pmod C,1)}) & \\Pi_1(B^{(n-d_1^{(0)},c-1\\pmod C,0)}) & B^{(n,c,L-1)} & \\cdots & B^{(n,c,1)} & B^{(n,c,0)}\n",
    "\\end{pmatrix}\n",
    "$$\n",
    "and is referred to as the $(n-\\mathsf{SCOPE},c)$th *constraint span*.\n",
    "\n",
    "- For the block $B^{(n,c,\\ell)}$, the $M+1$ involved constraint spans are the $(n-\\mathsf{SCOPE},c)$th and the $(n-\\mathsf{SCOPE}+d_i^{(\\ell)}, c+1 \\pmod C)$th for $i \\in \\{1,2,\\dots, M\\}$.\n",
    "\n",
    "- If we have a decoding window (or circular buffer) of $W$ rectangles, we maintain a circular buffer of $W$ groups of $CT$ syndromes corresponding to $W$ constraint span chains. The first $W-\\mathsf{SCOPE}$ of these correspond to complete constraint span chains in the decoding window. The last $\\mathsf{SCOPE}$ of these correspond to partial syndromes calculated from the portion of the constraint span chains that are in the decoding window and will be completed by future rectangles.\n",
    "\n",
    "- When $T \\neq 1$, you must choose $M$ to be less than or equal to the least prime factor of $T$. It is possible to have more flexibility with the values of $M$ and $T$ if required as illustrated [here](https://github.com/applecoffeecake/hosc-interleaver-maps) and you can easily implement it here by copying and adapting my Julia code from there. But I don't implement it here because I want to avoid the prime power finite field arithmetic involved.\n",
    "- However, when $T = 1$, you are allowed to choose any $M$."
   ]
  },
  {
   "cell_type": "code",
   "execution_count": 3,
   "id": "a163a747",
   "metadata": {
    "tags": []
   },
   "outputs": [
    {
     "name": "stdout",
     "output_type": "stream",
     "text": [
      "L = 4\n",
      "T = 2\n",
      "M = 2\n",
      "C = 3\n",
      "SCOPE = 12\n",
      "W = 39 rectangles = 0.001872 Mbits\n",
      "ITERS = 1\n",
      "rate = 0.25\n",
      "component code dimension/length k/n = 18/24\n",
      "number of parity bits (or parity columns in a block) m+1 = 6\n"
     ]
    }
   ],
   "source": [
    "# You must choose M to be less than or equal to the least prime factor of T if T is not equal to 1\n",
    "# to get a proper higher-order staircase code with the right error floor performance.\n",
    "# However, when T = 1, you are allowed to choose any M.\n",
    "L = 4\n",
    "T = 2\n",
    "M = 2\n",
    "C = 3\n",
    "\n",
    "# Load the matrix of delay values \"DTS\" \n",
    "# Currently supported L and M are:\n",
    "# If M = 1: all L \n",
    "# If M = 2: all L\n",
    "# If M = 3: all L up to 15\n",
    "# If M = 4: all L up to 10 excluding 9\n",
    "# If M = 5,6,7,8,9: L = 1\n",
    "DTS = grabDTS(L,M)\n",
    "\n",
    "SCOPE = maximum(DTS)\n",
    "\n",
    "# Decoding window size in number of CT x LT rectangles:\n",
    "# Suggested value is 2*(1+SCOPE) to 5*(1+SCOPE)\n",
    "W = 3*(1+SCOPE)\n",
    "\n",
    "# Number of decoding iterations\n",
    "ITERS = 1\n",
    "\n",
    "m = ceil(Int64, log2(L*T*(M+1)))\n",
    "s = 2^m - (M+1)*L*T;\n",
    "n = (M+1)*L*T;\n",
    "k = n-(m+1);\n",
    "@assert m+1 < L*T\n",
    "@assert W >= 1+SCOPE\n",
    "println(\"L = $L\")\n",
    "println(\"T = $T\")\n",
    "println(\"M = $M\")\n",
    "println(\"C = $C\")\n",
    "println(\"SCOPE = $SCOPE\")\n",
    "println(\"W = $W rectangles = $(W*C*T*L*T/1e6) Mbits\" )\n",
    "println(\"ITERS = $ITERS\")\n",
    "println(\"rate = $(1-(m+1)/(L*T))\")\n",
    "println(\"component code dimension/length k/n = $k/$n\")\n",
    "println(\"number of parity bits (or parity columns in a block) m+1 = $(m+1)\")"
   ]
  },
  {
   "cell_type": "code",
   "execution_count": 4,
   "id": "a99b61e1-f345-464a-8739-25fb1530d2b3",
   "metadata": {},
   "outputs": [],
   "source": [
    "# # CREATE C language static array DTS definitions for use with descim-hosc\n",
    "# MAX_L_IN_EXPLICIT_CASE = 1000;\n",
    "# L_M_SET = [(L,1) for L in 1:MAX_L_IN_EXPLICIT_CASE];\n",
    "# L_M_SET = [L_M_SET; [(L,2) for L in 1:MAX_L_IN_EXPLICIT_CASE]];\n",
    "# L_M_SET = [L_M_SET; [(L,3) for L in 1:15]];\n",
    "# L_M_SET = [L_M_SET; [(L,4) for L in [1,2,3,4,5,6,7,8,10]]];\n",
    "# L_M_SET = [L_M_SET; [(1,M) for M in [5,6,7,8,9]]];\n",
    "# C_DTS_config = \"\";\n",
    "# for lmpair in L_M_SET\n",
    "#     local L = lmpair[1];\n",
    "#     local M = lmpair[2];\n",
    "#     local DTS = grabDTS(L,M);\n",
    "#     local SCOPE_MINUS_DTS_c = reverse(maximum(DTS) .- DTS,dims=1);\n",
    "#     C_DTS_config *= \n",
    "#     (L==1 && M==1 ? \"#\" : \"#el\")* \n",
    "#     \"if (L == $L && M == $M)\n",
    "#         //static const int DTS[L][M+1] = \" *\n",
    "#         \"{\"*prod([\"{\"*prod(string.(DTS[j,:]) .* [i == M+1 ? \"\" : \",\" for i in 1:M+1])*\"}\" for j in 1:L] .* \n",
    "#     [i == L ? \"\" : \",\" for i in 1:L])*\"};\n",
    "#         static const int SCOPE_MINUS_DTS_c[L][M+1] = \" *\n",
    "#         \"{\"*prod([\"{\"*prod(string.(SCOPE_MINUS_DTS_c[j,:]) .* [i == M+1 ? \"\" : \",\" for i in 1:M+1])*\"}\" for j in 1:L] .* \n",
    "#     [i == L ? \"\" : \",\" for i in 1:L])*\"};\n",
    "#         #define SCOPE $(maximum(DTS))\n",
    "# \"\n",
    "# end\n",
    "# C_DTS_config *= \"#endif\"\n",
    "# write(\"dts-defs.h\",C_DTS_config)"
   ]
  },
  {
   "cell_type": "code",
   "execution_count": 5,
   "id": "c37e1d7c-49a7-45d0-a322-b7b995b8a1d2",
   "metadata": {
    "tags": []
   },
   "outputs": [],
   "source": [
    "# The following creates a systematic extended Hamming code \n",
    "# generator matrix G, parity-check matrix H, its transpose Ht,\n",
    "# and the parity/non-identity portion of the generator matrix P\n",
    "# This is a special choice of systematic extended Hamming code\n",
    "# with a LUT-free decoding method described in the Higher-Order\n",
    "# Staircase Codes paper.\n",
    "\n",
    "# m a b ainv\n",
    "special_eHamming = \n",
    "[\n",
    "3 1 1 1;  \n",
    "4 3 0  11;\n",
    "5 3 0  11;\n",
    "6 3 3  43;\n",
    "7 5 5  77;\n",
    "8 9 11  57;\n",
    "9 19 19  27;\n",
    "10 27 27  531;\n",
    "11 53 53  541;\n",
    "12 89 89  2025;\n",
    "13 163 170  4875;\n",
    "14 301 308  13989;\n",
    "15 553 553  14873;\n",
    "16 1065 1155 55321;\n",
    "]\n",
    "if (m < 3 || m > 16)\n",
    "    throw(\"Unsupported m!\")\n",
    "end\n",
    "a = special_eHamming[m-3+1,2]\n",
    "b = special_eHamming[m-3+1,3] + a*s\n",
    "ainv = special_eHamming[m-3+1,4]\n",
    "mask = (1<<m)-1\n",
    "minus_b = (1<<m)-b\n",
    "\n",
    "synFromErrorloc(x) = (((a*x+b)&mask)<<1)+1\n",
    "errorlocFromSyn(x) = (ainv*((x>>1)+minus_b))&mask\n",
    "\n",
    "H = zeros(Int64,m+1,0)\n",
    "for i in 0:n-1\n",
    "    H = hcat(H,reverse(digits(synFromErrorloc(i),base=2,pad=m+1))) \n",
    "end\n",
    "\n",
    "@assert [errorlocFromSyn(synFromErrorloc(x)) for x in 0:n-1] == 0:n-1\n",
    "@assert [synFromErrorloc(errorlocFromSyn(2*x+1)) for x in 0:n-1] == 2 .* (0:n-1) .+ 1\n",
    "\n",
    "G = RREF(dual(H));\n",
    "\n",
    "Id_kk = Int64.(ones(k,k)^0)\n",
    "@assert G[1:k,1:k] == Id_kk;\n",
    "@assert sum(mod.(G*transpose(H),2)) == 0;\n",
    "P = G[:,k+1:n];\n",
    "Ht = transpose(H);"
   ]
  },
  {
   "cell_type": "markdown",
   "id": "3830e120-d34f-4477-aa53-12e3d3427ac9",
   "metadata": {},
   "source": [
    "Note that a more memory-efficient encoder architecture is possible than the one modeled here."
   ]
  },
  {
   "cell_type": "code",
   "execution_count": 6,
   "id": "e02fa680",
   "metadata": {
    "tags": []
   },
   "outputs": [],
   "source": [
    "TX_buffer = CircularBuffer{Matrix{Int64}}(W); # TX buffer for error counting\n",
    "RX_buffer = CircularBuffer{Matrix{Int64}}(W); # Decoder buffer\n",
    "Syn_buffer = CircularBuffer{Matrix{Int64}}(W); # Decoder buffer\n",
    "ENC_buffer = CircularBuffer{Matrix{Int64}}(SCOPE); # Encoder buffer"
   ]
  },
  {
   "cell_type": "code",
   "execution_count": 7,
   "id": "c3995860-4e3b-4b36-9bdb-a06aafd9cbea",
   "metadata": {
    "tags": []
   },
   "outputs": [],
   "source": [
    "function reset_buffers()\n",
    "    for i in 1:W\n",
    "        push!(TX_buffer, zeros(Int64,C*T,L*T))\n",
    "        push!(RX_buffer, zeros(Int64,C*T,L*T))\n",
    "        push!(Syn_buffer, zeros(Int64,C*T,m+1))\n",
    "    end\n",
    "    for i in 1:SCOPE\n",
    "        push!(ENC_buffer, zeros(Int64,C*T,L*T))\n",
    "    end\n",
    "end;\n",
    "reset_buffers();"
   ]
  },
  {
   "cell_type": "markdown",
   "id": "1a896619-acdd-450f-825c-543be26e8426",
   "metadata": {},
   "source": [
    "I provide two permutation options. For more on the permutation options, refer to the relevant parts of [the notebook here](https://github.com/applecoffeecake/hosc-interleaver-maps)."
   ]
  },
  {
   "cell_type": "code",
   "execution_count": 8,
   "id": "b8071467-a9ed-420d-b209-9e6edad1b469",
   "metadata": {
    "tags": []
   },
   "outputs": [],
   "source": [
    "# l = 0,1,...,M\n",
    "\n",
    "# π_1(l,i,j) = l == 0 ? i : (j-1)+1;\n",
    "# π_2(l,i,j) = l == 0 ? j : mod((i-1)+(l-1)*(j-1), T) + 1;\n",
    "# π_inv_1(l,i,j) = l == 0 ? i : mod(-(l-1)*(i-1) + (j-1), T) + 1;\n",
    "# π_inv_2(l,i,j) = l == 0 ? j : (i-1) + 1;\n",
    "\n",
    "π_1(l,i,j) = l == 0 ? i : mod.(-(l-1)*(i-1) + (j-1), T) + 1;\n",
    "π_2(l,i,j) = l == 0 ? j : mod.((1-(l-1)^2)*(i-1) + (l-1)*(j-1), T) + 1;\n",
    "π_inv_1(l,i,j) = l == 0 ? i : mod.(-(l-1)*(i-1) + (j-1), T) + 1;\n",
    "π_inv_2(l,i,j) = l == 0 ? j : mod.((1-(l-1)^2)*(i-1) + (l-1)*(j-1), T) + 1;"
   ]
  },
  {
   "cell_type": "code",
   "execution_count": 9,
   "id": "4f0e71e6-0b32-47cc-baef-9e9f05a98599",
   "metadata": {
    "tags": []
   },
   "outputs": [],
   "source": [
    "Π(l,B) = [B[π_1(l,i,j), π_2(l,i,j)] for i in 1:T, j in 1:T];\n",
    "Π_inv(l,B) = [B[π_inv_1(l,i,j), π_inv_2(l,i,j)] for i in 1:T, j in 1:T];"
   ]
  },
  {
   "cell_type": "code",
   "execution_count": 10,
   "id": "4baf5466-b346-4eb2-844c-909528910736",
   "metadata": {
    "tags": []
   },
   "outputs": [],
   "source": [
    "TEST_MAT = [j + T*i + 1 for i in 0:T-1, j in 0:T-1];\n",
    "@assert sum([Π_inv(l,Π(l,TEST_MAT)) == TEST_MAT for l in 0:M]) == M+1\n",
    "@assert sum([Π(l,Π_inv(l,TEST_MAT)) == TEST_MAT for l in 0:M]) == M+1"
   ]
  },
  {
   "cell_type": "code",
   "execution_count": 11,
   "id": "b478ec5c-9646-43b3-8e8e-5c3c78c17fa8",
   "metadata": {
    "tags": []
   },
   "outputs": [],
   "source": [
    "# Encode a uniformly random CT x LT-(m+1) info rectangle, push CT x LT result to ENC_buffer\n",
    "function encode()\n",
    "    B_info = rand(0:1,C*T,L*T-(m+1)); # CT x LT-(m+1)\n",
    "    B_parity = B_info*P[k-(L*T-(m+1)-1):k,:] # CT x LT-(m+1) and LT-(m+1) x (m+1) yields CT x (m+1) \n",
    "    for c in 0:C-1 # chain link index\n",
    "        for u in 1:M # delay/perm index\n",
    "            for ℓ in 0:L-1 # class index\n",
    "                B_parity[1+(C-c-1)*T:T+(C-c-1)*T,:] += Π(u,ENC_buffer[end+1-DTS[ℓ+1,u+1]][1+(C-mod(c-1,C)-1)*T:T+(C-mod(c-1,C)-1)*T,1+(L-ℓ-1)*T:T+(L-ℓ-1)*T])*P[n-T+1-T*(L*u+ℓ):n-T*(L*u+ℓ),:]\n",
    "            end\n",
    "        end\n",
    "    end\n",
    "    B = [B_info mod.(B_parity, 2)];\n",
    "    push!(ENC_buffer, B)\n",
    "end;"
   ]
  },
  {
   "cell_type": "code",
   "execution_count": 12,
   "id": "ec573b4b",
   "metadata": {
    "tags": []
   },
   "outputs": [],
   "source": [
    "# Push clean copy of newest rectangle in ENC_buffer to TX_buffer\n",
    "# Push a noisy copy to RX_buffer with crossover probability p\n",
    "# Push an all zero CT x (m+1) group of partial syndromes to Syn_buffer \n",
    "function transmit(p) \n",
    "    push!(TX_buffer, ENC_buffer[end])\n",
    "    push!(RX_buffer, ENC_buffer[end] .⊻ (rand(C*T,L*T) .<= p))\n",
    "    push!(Syn_buffer, zeros(Int64,C*T,m+1))\n",
    "end;"
   ]
  },
  {
   "cell_type": "code",
   "execution_count": 13,
   "id": "529b0630-2e4f-4188-8cf9-36a355c90ce2",
   "metadata": {
    "tags": []
   },
   "outputs": [],
   "source": [
    "# Update update M + 1 partial syndromes going as far back as SCOPE from\n",
    "# the end of the syndrome buffer and completing one syndrome group\n",
    "function update_Syn()\n",
    "    for c in 0:C-1 # chain link index\n",
    "        for u in 0:M # delay/perm index\n",
    "            for ℓ in 0:L-1 # class index\n",
    "                if (u == 0)\n",
    "                    Syn_buffer[end-SCOPE+DTS[ℓ+1,u+1]][1+(C-c-1)*T:T+(C-c-1)*T,:] .⊻= mod.(Π(u,RX_buffer[end][1+(C-c-1)*T:T+(C-c-1)*T,1+(L-ℓ-1)*T:T+(L-ℓ-1)*T])*Ht[n-T+1-T*(L*u+ℓ):n-T*(L*u+ℓ),:],2)\n",
    "                else\n",
    "                    Syn_buffer[end-SCOPE+DTS[ℓ+1,u+1]][1+(C-c-1)*T:T+(C-c-1)*T,:] .⊻= mod.(Π(u,RX_buffer[end][1+(C-mod(c-1,C)-1)*T:T+(C-mod(c-1,C)-1)*T,1+(L-ℓ-1)*T:T+(L-ℓ-1)*T])*Ht[n-T+1-T*(L*u+ℓ):n-T*(L*u+ℓ),:],2)\n",
    "                end\n",
    "            end\n",
    "        end\n",
    "    end\n",
    "end;"
   ]
  },
  {
   "cell_type": "code",
   "execution_count": 14,
   "id": "d8c4fe74-6055-4b52-9c76-7118756fa404",
   "metadata": {},
   "outputs": [],
   "source": [
    "# reset_buffers()"
   ]
  },
  {
   "cell_type": "code",
   "execution_count": 15,
   "id": "fcef1585-c396-45e8-b339-6b21d92d4ae7",
   "metadata": {},
   "outputs": [],
   "source": [
    "# encode()\n",
    "# transmit(0.0)\n",
    "# update_Syn()"
   ]
  },
  {
   "cell_type": "code",
   "execution_count": 16,
   "id": "9b4ea7a1-f72f-46d9-ac66-21d91bb90b5a",
   "metadata": {},
   "outputs": [],
   "source": [
    "# Syn_buffer"
   ]
  },
  {
   "cell_type": "code",
   "execution_count": 17,
   "id": "01f634d8-a4de-4aa0-8a45-d93caf65aa5a",
   "metadata": {},
   "outputs": [],
   "source": [
    "function flip(rect, c, ℓ, i, j)\n",
    "    RX_buffer[rect][(C-1-c)*T + i, (L-1-ℓ)*T + j] ⊻= 1\n",
    "    for u = M:-1:0\n",
    "        if rect-SCOPE+DTS[ℓ+1,u+1] > 0 \n",
    "            i_perm, j_perm = π_inv_1(u,i,j), π_inv_2(u,i,j)\n",
    "            if (u == 0)\n",
    "                Syn_buffer[rect-SCOPE+DTS[ℓ+1,u+1]][(C-1-c)*T + i_perm,:] .⊻= Ht[((M-u)*L+(L-1-ℓ))*T+j_perm,:] \n",
    "            else\n",
    "                Syn_buffer[rect-SCOPE+DTS[ℓ+1,u+1]][(C-1-mod(c+1,C))*T + i_perm,:] .⊻= Ht[((M-u)*L+(L-1-ℓ))*T+j_perm,:] \n",
    "            end\n",
    "        end\n",
    "    end\n",
    "end;"
   ]
  },
  {
   "cell_type": "code",
   "execution_count": 18,
   "id": "eee38cc2-6e11-4b1a-82ae-7c56a749de09",
   "metadata": {},
   "outputs": [],
   "source": [
    "# reset_buffers()"
   ]
  },
  {
   "cell_type": "code",
   "execution_count": 19,
   "id": "d346d823-edf6-4f0c-b313-8f6931dd1136",
   "metadata": {},
   "outputs": [],
   "source": [
    "# encode()\n",
    "# transmit(0.0)\n",
    "# update_Syn()"
   ]
  },
  {
   "cell_type": "code",
   "execution_count": 20,
   "id": "93e6beaf-9428-463f-a963-e320b68b1d65",
   "metadata": {},
   "outputs": [],
   "source": [
    "# flip(4,1,0,1,1)"
   ]
  },
  {
   "cell_type": "code",
   "execution_count": 21,
   "id": "ade4e3b1-45f8-4ff8-8f4f-78cdd968e46a",
   "metadata": {},
   "outputs": [],
   "source": [
    "# flip(4,0,1,2,1)"
   ]
  },
  {
   "cell_type": "code",
   "execution_count": 22,
   "id": "00827b9b-3bd5-47fe-a51b-dd4fd3e8c8af",
   "metadata": {},
   "outputs": [],
   "source": [
    "# Syn_buffer"
   ]
  },
  {
   "cell_type": "code",
   "execution_count": 23,
   "id": "9f50b761-0663-4011-ac18-f6d2fb7d0a83",
   "metadata": {},
   "outputs": [],
   "source": [
    "# sweep()"
   ]
  },
  {
   "cell_type": "code",
   "execution_count": 24,
   "id": "89c1265f-caa5-457b-8e1b-eaee125df3bc",
   "metadata": {},
   "outputs": [],
   "source": [
    "# RX_buffer"
   ]
  },
  {
   "cell_type": "code",
   "execution_count": 25,
   "id": "61e4eab5-3d27-4ac7-aec7-1927b0d553cf",
   "metadata": {},
   "outputs": [],
   "source": [
    "# count_errors() = sum(TX_buffer[1][:,1:L*T-(m+1)] .!= RX_buffer[1][:,1:L*T-(m+1)]);\n",
    "count_errors() = sum(TX_buffer[1] .!= RX_buffer[1]);"
   ]
  },
  {
   "cell_type": "code",
   "execution_count": 26,
   "id": "46f462e6",
   "metadata": {},
   "outputs": [],
   "source": [
    "integer_basis = [2^i for i in m:-1:0]';\n",
    "function sweep()\n",
    "    for w in (W-SCOPE):-1:1\n",
    "        for c in 0:C-1\n",
    "            for i in 1:T\n",
    "                if Syn_buffer[w][(C-1-c)*T + i, m+1] != 0 \n",
    "                    errorloc = errorlocFromSyn(integer_basis*Syn_buffer[w][(C-1-c)*T + i,:]) + 1;\n",
    "                    if errorloc <= n\n",
    "                        j_rect = (errorloc-1)%(L*T) + 1\n",
    "                        perm = M - div(errorloc-1, L*T)\n",
    "                        ℓ = L-1-div(j_rect-1, T);\n",
    "                        j = (j_rect-1)%T + 1;\n",
    "                        if (perm == 0)\n",
    "                            flip(w+SCOPE-DTS[ℓ+1,perm+1], c, ℓ, π_1(perm, i, j), π_2(perm, i, j))\n",
    "                        else\n",
    "                            flip(w+SCOPE-DTS[ℓ+1,perm+1], mod(c-1,C), ℓ, π_1(perm, i, j), π_2(perm, i, j))\n",
    "                        end\n",
    "                    end\n",
    "                end          \n",
    "            end\n",
    "        end\n",
    "    end\n",
    "end;"
   ]
  },
  {
   "cell_type": "code",
   "execution_count": 27,
   "id": "5093e456",
   "metadata": {},
   "outputs": [
    {
     "data": {
      "text/plain": [
       "1×9 adjoint(::Vector{Float64}) with eltype Float64:\n",
       " 0.04  0.045  0.05  0.055  0.06  0.065  0.07  0.075  0.08"
      ]
     },
     "metadata": {},
     "output_type": "display_data"
    },
    {
     "data": {
      "text/plain": [
       "1×9 adjoint(::Vector{Float64}) with eltype Float64:\n",
       " 2.0e6  2.0e6  2.0e6  2.0e6  2.0e6  2.0e6  200000.0  200000.0  200000.0"
      ]
     },
     "metadata": {},
     "output_type": "display_data"
    }
   ],
   "source": [
    "# Specify vector ps of crossover probabilities to simulate\n",
    "# and vector TRIALS of respective numbers of trials for each crossover probability\n",
    "ps =     [  4, 4.5,   5, 5.5,   6, 6.5,   7, 7.5,   8]*1e-2\n",
    "TRIALS = [2e6, 2e6, 2e6, 2e6, 2e6, 2e6, 2e5, 2e5, 2e5] \n",
    "# TRIALS = Int64(2e6)*ones(Int64,length(ps))\n",
    "# TRIALS = Int64(1e2)*ones(Int64,length(ps))\n",
    "display(ps')\n",
    "display(TRIALS')\n",
    "@assert length(ps) == length(TRIALS)"
   ]
  },
  {
   "cell_type": "code",
   "execution_count": 28,
   "id": "0a3907d4",
   "metadata": {},
   "outputs": [],
   "source": [
    "tot = sum(TRIALS); # Total number of trials for progress tracking\n",
    "percent_increment = round(Int64,tot/100) == 0 ? 1 : round(Int64,tot/100);"
   ]
  },
  {
   "cell_type": "code",
   "execution_count": null,
   "id": "54288527",
   "metadata": {},
   "outputs": [
    {
     "name": "stdout",
     "output_type": "stream",
     "text": [
      "Progress: 1%\n"
     ]
    }
   ],
   "source": [
    "BERs = zeros(length(ps))\n",
    "err_cts = zeros(Int64,length(ps))\n",
    "tracker = 0\n",
    "t_0 = now()\n",
    "for point in 1:length(ps)\n",
    "    reset_buffers();\n",
    "    for trial in 1:TRIALS[point]   \n",
    "        tracker += 1\n",
    "        if tracker%percent_increment == 0\n",
    "            percentage = round(Int64,tracker/tot*100)\n",
    "            if percentage%1 == 0\n",
    "                println(\"Progress: $percentage%\")\n",
    "                println(\"Errors for parameter p = $(ps[point]): $(err_cts[point])\")\n",
    "            end\n",
    "        end\n",
    "        encode();\n",
    "        transmit(ps[point]);\n",
    "        update_Syn();\n",
    "        for iter in 1:ITERS\n",
    "            sweep();\n",
    "        end\n",
    "        # Delay of W before starting error counting\n",
    "        if trial > W\n",
    "            err_cts[point] += count_errors();\n",
    "        end     \n",
    "    end\n",
    "end\n",
    "t_1 = now()"
   ]
  },
  {
   "cell_type": "code",
   "execution_count": null,
   "id": "4b011a3d",
   "metadata": {},
   "outputs": [],
   "source": [
    "K = C*T*(L*T-(m+1));\n",
    "println(\"Simulation duration in different units:\")\n",
    "println(round((t_1 - t_0), Dates.Second(1)))\n",
    "println(round((t_1 - t_0), Dates.Minute(1)))\n",
    "println(round((t_1 - t_0), Dates.Hour(1)))\n",
    "println()\n",
    "dur_in_ms = (t_1 - t_0).value\n",
    "dur_in_ms_avg = (dur_in_ms/tot)\n",
    "println(\"$tot trials or blocks transmitted\")\n",
    "println(\"$(tot*K*1e-6) Mbits transmitted\")\n",
    "println(\"$dur_in_ms_avg milliseconds per trial\")\n",
    "throughput = K/dur_in_ms_avg/1e-3/1e6\n",
    "println(\"throughput: $throughput Mbit/s\")"
   ]
  },
  {
   "cell_type": "code",
   "execution_count": null,
   "id": "2eea4fe7",
   "metadata": {},
   "outputs": [],
   "source": [
    "err_cts'"
   ]
  },
  {
   "cell_type": "code",
   "execution_count": null,
   "id": "baea0389",
   "metadata": {},
   "outputs": [],
   "source": [
    "# 1.0 ./ ((TRIALS .- W)*K)'"
   ]
  },
  {
   "cell_type": "code",
   "execution_count": null,
   "id": "b4bbf279-3770-43d2-9f9b-7e4116ef0151",
   "metadata": {},
   "outputs": [],
   "source": [
    "ps'"
   ]
  },
  {
   "cell_type": "code",
   "execution_count": null,
   "id": "5d886271",
   "metadata": {
    "scrolled": true
   },
   "outputs": [],
   "source": [
    "BERs = err_cts ./ ((TRIALS .- W)*K);\n",
    "BERs'"
   ]
  },
  {
   "cell_type": "code",
   "execution_count": null,
   "id": "2f689d89",
   "metadata": {},
   "outputs": [],
   "source": [
    "plot(ps, BERs, marker=:rect, yaxis=:log, legend=:bottomright, label=\"hosc-Julia: L = $L, M = $M, T = $T, C = $C, W = $W\")\n",
    "plot!([4,4.5,5,5.5,6,6.5,7,7.5,8]*1e-2,[1.73333e-05,3.26667e-05,5.3125e-05,8.92917e-05,0.000190417,0.000397458,0.00159292,0.00688833,0.0315775],\n",
    "    mark=:s,linestyle=:dash,label=\"mc-decsim-hosc: L = 4, M = 2, T = 2, C = 3, W = 39\")\n",
    "plot!(ps,ps,marker=:x,line=:dash,label=\"BER = crossover probability\")\n",
    "ylims!(1e-8,1e-0)\n",
    "yticks!([10.0^(-i) for i in 0:9])\n",
    "ylabel!(\"BER\")\n",
    "xticks!(ps)\n",
    "xlabel!(\"crossover probability\")\n"
   ]
  },
  {
   "cell_type": "code",
   "execution_count": null,
   "id": "8ae80708-5638-4d94-a6a5-3e74d325694c",
   "metadata": {},
   "outputs": [],
   "source": []
  },
  {
   "cell_type": "code",
   "execution_count": null,
   "id": "6e6249ee-bec9-4705-8e91-bc92c7e2441f",
   "metadata": {},
   "outputs": [],
   "source": []
  }
 ],
 "metadata": {
  "kernelspec": {
   "display_name": "Julia 1.11.0",
   "language": "julia",
   "name": "julia-1.11"
  },
  "language_info": {
   "file_extension": ".jl",
   "mimetype": "application/julia",
   "name": "julia",
   "version": "1.11.0"
  }
 },
 "nbformat": 4,
 "nbformat_minor": 5
}
